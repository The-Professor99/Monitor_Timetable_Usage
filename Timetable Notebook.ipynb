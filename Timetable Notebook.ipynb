{
 "cells": [
  {
   "cell_type": "markdown",
   "id": "d7bfc447",
   "metadata": {},
   "source": [
    "### Section 1: First things first, Set up "
   ]
  },
  {
   "cell_type": "code",
   "execution_count": null,
   "id": "52666a9a",
   "metadata": {},
   "outputs": [],
   "source": [
    "from timetable import *\n",
    "file_path = \"main_timetable.pkl\"\n",
    "# should you need to start afresh at any point, find this file\n",
    "# in the root folder and delete it."
   ]
  },
  {
   "cell_type": "code",
   "execution_count": null,
   "id": "ad5de5f8",
   "metadata": {},
   "outputs": [],
   "source": [
    "%matplotlib\n",
    "%matplotlib"
   ]
  },
  {
   "cell_type": "markdown",
   "id": "357a1bfb",
   "metadata": {},
   "source": [
    "#### Setup Timetable"
   ]
  },
  {
   "cell_type": "markdown",
   "id": "a57501c5",
   "metadata": {},
   "source": [
    "Use the format below, specify tasks and hours to spend on them per day. **Once setup, you only need to change it if your schedule changes**\n",
    "\n",
    "\n",
    "**Format**:\n",
    "```\n",
    "# in the form of \n",
    "expected = {\n",
    "    dayofweek: {\n",
    "     task1: total hours_to spend_on_it on that day, \n",
    "     task2: total hours_to spend_on_it on that day, ...\n",
    "    }, ...\n",
    "}\n",
    "\n",
    "Eg.\n",
    "expected = {\n",
    "    \"Monday\": {\"Reading\": 6, \"Coding\": 2},\n",
    "    \"Tuesday\": {\"Reading\": 6, \"Coding\": 2, \"Research\": 2}, \n",
    "    \"Wednesday\": {\"Writing\": 6, \"Reading\": 2, \"Research\": 2}, \n",
    "    \"Thursday\": {\"Coding\": 6, \"Reading\": 2, \"Writing\": 2},\n",
    "    \"Friday\": {\"Coding\": 4, \"Research\": 5, \"Movies\": 1},\n",
    "    \"Saturday\": {\"Coding\": 2, \"Research\": 5, \"Movies\": 3},\n",
    "    \"Sunday\": {\"Research\": 2, \"Writing\": 5},\n",
    "}\n",
    "```"
   ]
  },
  {
   "cell_type": "code",
   "execution_count": null,
   "id": "592c9378",
   "metadata": {},
   "outputs": [],
   "source": [
    "expected = {}"
   ]
  },
  {
   "cell_type": "raw",
   "id": "bc484c05",
   "metadata": {},
   "source": []
  },
  {
   "cell_type": "markdown",
   "id": "ab5af182",
   "metadata": {},
   "source": [
    "### Section 2: Entry Port\n",
    "You can go straight to section 3 if you dont want to enter in new data and want to inspect already entered data"
   ]
  },
  {
   "cell_type": "markdown",
   "id": "294835b3",
   "metadata": {},
   "source": [
    "#### Step 1: Specify the work done for a particular day.\n",
    "At the end of everyday, you manually enter in tasks done for that day. You can write tasks done somewhere and just manually enter them in at the end of every week\n",
    "\n",
    "**Format**:\n",
    "```\n",
    "# in the form of \n",
    "tasks_done = {\n",
    "    task1: hours_spent_on it on task_date,\n",
    "    task2: hours_spent_on it on task_date, \n",
    "    ...\n",
    "}\n",
    "task_date = date above tasks were done\n",
    "\n",
    "Eg.\n",
    "tasks_done = {\n",
    "    \"Reading\": 2,\n",
    "    \"Coding\": 6,\n",
    "    \"Research\": 3\n",
    "} \n",
    "task_date = \"Monday 25th September 2023\"\n",
    "```\n",
    "    "
   ]
  },
  {
   "cell_type": "code",
   "execution_count": null,
   "id": "a14b658c",
   "metadata": {},
   "outputs": [],
   "source": [
    "# use the format specified above\n",
    "tasks_done = {}\n",
    "task_date = \"\" "
   ]
  },
  {
   "cell_type": "markdown",
   "id": "d06f9bfa",
   "metadata": {},
   "source": [
    "#### Step 2: Run the setup"
   ]
  },
  {
   "cell_type": "code",
   "execution_count": null,
   "id": "4887b66b",
   "metadata": {},
   "outputs": [],
   "source": [
    "# do not save unless the tasks for the day are completed and you are sure there are no mistakes with your entry\n",
    "timetable = run_setup(expected, task_date, tasks_done, \n",
    "                      timetable_path=file_path, silent=True)"
   ]
  },
  {
   "cell_type": "markdown",
   "id": "5d9d0eb7",
   "metadata": {},
   "source": [
    "#### Step 3: Repeat step 1 - step 2 until you have entered all tasks done"
   ]
  },
  {
   "cell_type": "raw",
   "id": "f7f1b6b0",
   "metadata": {},
   "source": []
  },
  {
   "cell_type": "markdown",
   "id": "ae82dcbf",
   "metadata": {},
   "source": [
    "### Section 3: Inspection Starts Here"
   ]
  },
  {
   "cell_type": "code",
   "execution_count": null,
   "id": "39e83997",
   "metadata": {},
   "outputs": [],
   "source": [
    "timetable = get_timetable(\"main_timetable.pkl\")"
   ]
  },
  {
   "cell_type": "code",
   "execution_count": null,
   "id": "44496497",
   "metadata": {},
   "outputs": [],
   "source": [
    "hours_worked_daily = timetable.get_total_daily_achievements()"
   ]
  },
  {
   "cell_type": "code",
   "execution_count": null,
   "id": "d15a8dd8",
   "metadata": {},
   "outputs": [],
   "source": [
    "# average minimum num of hrs you feel you should put into work each day\n",
    "min_hrs = 6 \n",
    "\n",
    "# most likely number of hrs you want to put into work each day\n",
    "opt_hrs = 8 \n",
    "# opt_hrs is desired hrs to put in, on average\n",
    "# min_hrs is worst case scenario. on average\n",
    "\n",
    "# Plot of all hours worked each day\n",
    "hours_worked_plot(hours_worked_daily, \\\n",
    "                  min_hrs=min_hrs, opt_hrs=opt_hrs)"
   ]
  },
  {
   "cell_type": "code",
   "execution_count": null,
   "id": "fc2646e8",
   "metadata": {},
   "outputs": [],
   "source": [
    "# Number of hours you've put in in the last 7days.\n",
    "hours_worked_stats(hours_worked_daily, num_days=7, median=True)"
   ]
  },
  {
   "cell_type": "code",
   "execution_count": null,
   "id": "da721dd5",
   "metadata": {},
   "outputs": [],
   "source": [
    "# View a mean and median plot of hours worked daily\n",
    "plot_mean_median(hours_worked_daily, kind=\"hist\")"
   ]
  },
  {
   "cell_type": "raw",
   "id": "97f12d2c",
   "metadata": {},
   "source": []
  },
  {
   "cell_type": "markdown",
   "id": "ba53c7f5",
   "metadata": {},
   "source": [
    "### Owes\n",
    "This section shows how much time you owe your tasks. I.e task you were supposed to work on but neglected. This section shows how much hours of those neglect has piled up"
   ]
  },
  {
   "cell_type": "code",
   "execution_count": null,
   "id": "bd517fd0",
   "metadata": {
    "scrolled": true
   },
   "outputs": [],
   "source": [
    "include_owed = \"include\"\n",
    "include_freetime = \"include\"\n",
    "owings = timetable.get_all_owings()[-1]\n",
    "pd.Series(sort_dict(get_actual_owes(owings, \\\n",
    "                        return_owed=include_owed,\\\n",
    "                        return_free_time=include_freetime)))"
   ]
  },
  {
   "cell_type": "code",
   "execution_count": null,
   "id": "59484c8c",
   "metadata": {},
   "outputs": [],
   "source": [
    "# uncomment and run the line of code below for more info \n",
    "# on the above\n",
    "\n",
    "# print_actual_owes_explanation()"
   ]
  },
  {
   "cell_type": "raw",
   "id": "9bfb3b29",
   "metadata": {},
   "source": []
  },
  {
   "cell_type": "markdown",
   "id": "a716b9b7",
   "metadata": {},
   "source": [
    "### Other Checks\n",
    "Mostly other chart analytics that may or may not be useful"
   ]
  },
  {
   "cell_type": "markdown",
   "id": "5aa4968c",
   "metadata": {},
   "source": [
    "#### First Things first, setup consideration period"
   ]
  },
  {
   "cell_type": "markdown",
   "id": "68616375",
   "metadata": {},
   "source": [
    "specify the period you want to analyze below. Assuming you want to analyze work done between febuary 14th, 2023 to May 16th, 2023, Your start_from would be \"2023-02-14\" and your stop_at would be \"2023-05-16\". If you want to consider all the days you have worked, leave both start_from and stop_at blank"
   ]
  },
  {
   "cell_type": "code",
   "execution_count": null,
   "id": "3978ca89",
   "metadata": {},
   "outputs": [],
   "source": [
    "start_from = \"\" #format - YYYY-mm-dd\n",
    "stop_at = \"\" #format - YYYY-mm-dd"
   ]
  },
  {
   "cell_type": "markdown",
   "id": "72a3f7c8",
   "metadata": {},
   "source": [
    "#### Enjoy the view"
   ]
  },
  {
   "cell_type": "code",
   "execution_count": null,
   "id": "b2e7db36",
   "metadata": {},
   "outputs": [],
   "source": [
    "achievements, expectations = timetable.get_achievements_and_expectations()\n",
    "dates = timetable.get_dates()\n",
    "\n",
    "achievements_df = get_considered_period(\n",
    "    frame_object(achievements, dates), start_from=start_from,\n",
    "    stop_at=stop_at\n",
    ")\n",
    "expectations_df =  get_considered_period(\n",
    "    frame_object(expectations, dates), start_from=start_from,\n",
    "    stop_at=stop_at\n",
    ")"
   ]
  },
  {
   "cell_type": "code",
   "execution_count": null,
   "id": "cfece40d",
   "metadata": {},
   "outputs": [],
   "source": [
    "# Your achievements within the considered period. uncomment to view\n",
    "# achievements_df"
   ]
  },
  {
   "cell_type": "code",
   "execution_count": null,
   "id": "ac25402d",
   "metadata": {},
   "outputs": [],
   "source": [
    "# Expectations within the considered period, uncomment to view\n",
    "# expectations_df"
   ]
  },
  {
   "cell_type": "markdown",
   "id": "c46b5931",
   "metadata": {},
   "source": [
    "#### Per day"
   ]
  },
  {
   "cell_type": "code",
   "execution_count": null,
   "id": "44f0453e",
   "metadata": {},
   "outputs": [],
   "source": [
    "fig, axs = plt.subplots(1, 2, sharex=True)\n",
    "fig.suptitle(\"Expectations vs Achievements within considered Time Period, per day\")\n",
    "expectations_df.plot(\n",
    "    kind=\"bar\", rot=9, ylabel=\"num of hours expected\", \\\n",
    "    title=\"Expectations\", ax=axs[0])\n",
    "\n",
    "achievements_df.plot(\n",
    "    kind=\"bar\", rot=9, ylabel=\"num of hours achieved\", \\\n",
    "    title=\"Achievements\", ax=axs[1])\n",
    "\n",
    "\n",
    "# Expectations refer to hours you were expected to put in to \n",
    "# each task within the considered period, per day\n",
    "# Achievements refer to hours you actually put in to the tasks\n",
    "# within the considered period, per day"
   ]
  },
  {
   "cell_type": "markdown",
   "id": "3dbe4032",
   "metadata": {},
   "source": [
    "#### Summation of all days within considered period"
   ]
  },
  {
   "cell_type": "code",
   "execution_count": null,
   "id": "4e84e340",
   "metadata": {},
   "outputs": [],
   "source": [
    "print(f\"Within the considered period, you were expected to put in {expectations_df.sum().sum()}hrs of work but ended up working {achievements_df.sum().sum()}hrs\")"
   ]
  },
  {
   "cell_type": "code",
   "execution_count": null,
   "id": "c068df68",
   "metadata": {},
   "outputs": [],
   "source": [
    "chart_type = \"bar\" # you can change it to \"pie\". \n",
    "# when using pie\n",
    "# please note that the values are relative and not absolute. \n",
    "# Expectations are relative to the hours you were expected to \n",
    "# put in, Achievements are relative to hours you actually \n",
    "# did work.\n",
    "# for bar, the values are absolute\n",
    "\n",
    "fig, axs = plt.subplots(1, 2)\n",
    "fig.suptitle(\"Overall Expectations vs Overall Achievements within considered Time Period\")\n",
    "if chart_type == \"bar\":\n",
    "    expectations_df.sum(\n",
    "        ).plot(\n",
    "        kind=\"bar\", rot=9, ylabel=\"num of hours expected\", \\\n",
    "        title=\"Expectations\", ax=axs[0])\n",
    "\n",
    "    achievements_df.sum(\n",
    "    ).plot(\n",
    "        kind=\"bar\", rot=9, ylabel=\"num of hours achieved\", \\\n",
    "        title=\"Achievements\", ax=axs[1])\n",
    "else:\n",
    "    expectations_df.sum(\n",
    "        ).plot(\n",
    "        kind=\"pie\", rot=9,\\\n",
    "        title=\"Expectations\", ax=axs[0], autopct='%1.1f%%')\n",
    "\n",
    "    achievements_df.sum(\n",
    "    ).plot(\n",
    "        kind=\"pie\", rot=9, \\\n",
    "        title=\"Achievements\", ax=axs[1],  autopct='%1.1f%%')\n",
    "    \n",
    "\n",
    "# Expectations here refers to the summation of all the hours you\n",
    "# were expected to put in to each task within the considered period\n",
    "# Achievements here refer to the summation of all hours you \n",
    "# actually put in to the tasks within the considered period"
   ]
  },
  {
   "cell_type": "markdown",
   "id": "df52d0ed",
   "metadata": {},
   "source": [
    "### Owings within considered period"
   ]
  },
  {
   "cell_type": "code",
   "execution_count": null,
   "id": "7e0833e7",
   "metadata": {},
   "outputs": [],
   "source": [
    "# hrs you owe to tasks and hrs overspent on tasks within \n",
    "# considered period. See \"Owes\" section for more details...\n",
    "# or uncomment the code in the next block\n",
    "for col in expectations_df.columns:\n",
    "    if col not in achievements_df.columns:\n",
    "        achievements_df[col] = 0\n",
    "(expectations_df - \\\n",
    " achievements_df).sum()"
   ]
  },
  {
   "cell_type": "code",
   "execution_count": null,
   "id": "eed06722",
   "metadata": {},
   "outputs": [],
   "source": [
    "# print_actual_owes_explanation()"
   ]
  },
  {
   "cell_type": "code",
   "execution_count": null,
   "id": "976079c6",
   "metadata": {},
   "outputs": [],
   "source": [
    "# same as above, just in a bar chart.\n",
    "(expectations_df - \\\n",
    " achievements_df).sum().plot(kind=\"bar\", rot=9, \n",
    "                             ylabel=\"Hours owed\")\n",
    "\n",
    "# negative values mean the task is eating into time meant for \n",
    "# other things, positive values mean the task is deprived of \n",
    "# attention."
   ]
  },
  {
   "cell_type": "code",
   "execution_count": null,
   "id": "7d931d6e",
   "metadata": {},
   "outputs": [],
   "source": []
  }
 ],
 "metadata": {
  "kernelspec": {
   "display_name": "Python 3 (ipykernel)",
   "language": "python",
   "name": "python3"
  },
  "language_info": {
   "codemirror_mode": {
    "name": "ipython",
    "version": 3
   },
   "file_extension": ".py",
   "mimetype": "text/x-python",
   "name": "python",
   "nbconvert_exporter": "python",
   "pygments_lexer": "ipython3",
   "version": "3.11.4"
  }
 },
 "nbformat": 4,
 "nbformat_minor": 5
}
